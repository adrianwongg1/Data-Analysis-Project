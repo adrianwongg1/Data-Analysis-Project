{
 "cells": [
  {
   "cell_type": "markdown",
   "metadata": {},
   "source": [
    "**If you lost points on the last checkpoint you can get them back by responding to TA/IA feedback**  \n",
    "\n",
    "Update/change the relevant sections where you lost those points, make sure you respond on GitHub Issues to your TA/IA to call their attention to the changes you made here.\n",
    "\n",
    "Please update your Timeline... no battle plan survives contact with the enemy, so make sure we understand how your plans have changed."
   ]
  },
  {
   "cell_type": "markdown",
   "metadata": {},
   "source": [
    "# COGS 108 - Data Checkpoint"
   ]
  },
  {
   "cell_type": "markdown",
   "metadata": {},
   "source": [
    "# Names\n",
    "\n",
    "- Adrian Wong\n",
    "- Kevin Kuang\n",
    "- Valerie Nguyen\n",
    "- Peter Nguyen\n",
    "- Bryan Cho"
   ]
  },
  {
   "cell_type": "markdown",
   "metadata": {},
   "source": [
    "# Research Question"
   ]
  },
  {
   "cell_type": "markdown",
   "metadata": {},
   "source": [
    "Given that the Super Bowl is the most viewed television program every year, there is huge emphasis on the advertisements shown, as well as choosing the performer for the Halftime show. We wanted to explore the following question: What is the relationship of a Super Bowl Halftime show performer's popularity by streams and the stocks of parent companies owning food and beverage products such as Coors Light, Bud Light, M&Ms, Oreos, and Doritos featured in Super Bowl advertisements? "
   ]
  },
  {
   "cell_type": "markdown",
   "metadata": {},
   "source": [
    "## Background and Prior Work"
   ]
  },
  {
   "cell_type": "markdown",
   "metadata": {},
   "source": [
    "The Super Bowl, an annual championship game of the National Football League (NFL), is not only a significant sporting event but also a cultural phenomenon with a massive global audience. Alongside the game itself, the Super Bowl halftime show has emerged as a highly anticipated spectacle, featuring performances by some of the world's most renowned musical artists. With millions of viewers tuning in each year, the halftime show presents a unique opportunity for companies to showcase their brands through advertisements aired during the event.\n",
    "However, beyond the entertainment value and marketing, a question arises: what is the relationship between the popularity of halftime show performers and the sales impact on companies who advertise during the Super Bowl? \n",
    "\n",
    "Previous work has been doen on analyzing the influence of advertisements on sales without considering halftime show performer by highradius. They found that the effects of super bowl advertisements vary depending on the type of company and their relationship to others. An example of this is when two competing brands in the same industry air advertisements during the superbowl (Cola and Pepsi), they made no substantial gain on investments<a name=\"cite_ref-1\"></a>[<sup>1</sup>](#cite_note-1). In contrast media companies like Fox, saw a 10% increase on total revenue from the previous year <a name=\"cite_ref-1\"></a>[<sup>1</sup>](#cite_note-1). In addition, they found that companies have been hesitant to invest into a super bowl advertisement as the price tag is hefty. The variation in amount of revenue between the companies suggested that there is no clear answer to is the advertisement a worth investment for companies, but they can potentially generate lots of money. \n",
    "\n",
    "INFORMS' article expands on this potential to generate high volumes of money by pointing out that companies participating in Super Bowl adds not only see a sharp increase in revenue leading up to the event, but that these numbers tend persist into to the NCAA's \"March Madness,\" the NBA, and MLB games which all fall nicely into a timeline. This is particularly shown with Budweiser's ten-point increase in ratings around the Super Bowl, while a company like Coca-Cola whose ads are not associated with the event remain relatively stagnant <a name=\"cite_ref-2\"></a>[<sup>2</sup>](#cite_note-2). These findings reveal that it might also be important to anaylze data from the other fiscal quarters outside of the Super Bowl if we wish to find the a true relationship between Halftime Show popularity and said ads.\n",
    "\n",
    "The EU Business School also reveals that halftime show popularity is heavily influenced by a celebrity's timeline in popculture, which is a factor the Superbowl must be able to leverage. Rihanna, specifically, generated more anticipation than usual performers due to her stance on police brutality and her absence in the years leading up to her appearance. Apple Music reaped thee benefits of her comeback with their decision to sponsor the show for the first time <a name=\"cite_ref-3\"></a>[<sup>3</sup>](#cite_note-3), including her image and voice in their YouTube upload to maximize their exposure. With Superbowl viewership peaking during the Halftime Show, people are drawn in by the featured celebrity's relevance, in society and politics which provides a positive correlation for viewership of the entire event. Thus, it is clear the Halftime Show brings alluring opportunies for companies to increase their popularity, and the variance in popularity across different years affect which ads are promoted and the sales immediately following the performance.\n",
    "\n",
    "\n",
    "1. <a name=\"cite_note-1\"></a> [^](#cite_ref-1) February, T. (2024, April 18). Finance Newsletter: Super Bowl ad impacts. HighRadiusTM | Integrated Receivables | a/R Management Software. https://www.highradius.com/finsider/super-bowl-advertising-financial-impact/\n",
    "2. <a name=\"cite_note-2\"></a> [^](#cite_ref-2) Informs. (n.d.). Are super bowl ads worth it? new research indicates sales benefits persist well into the year during “March madness,” MLB and NBA Games. INFORMS. https://www.informs.org/News-Room/INFORMS-Releases/News-Releases/Are-Super-Bowl-ads-worth-it-New-research-indicates-sales-benefits-persist-well-into-the-year-during-March-Madness-MLB-and-NBA-games \n",
    "3. <a name=\"cite_note-3\"></a> [^](#cite_ref-3) Paz, E. (2023, March). All of the lights: Social and cultural implications of the Super Bowl Halftime Show. https://research.euruni.edu/Htdocs/Files/v/9990.pdf/ONResearch/March-2023---Elisa-Paz---FT-1.pdf"
   ]
  },
  {
   "cell_type": "markdown",
   "metadata": {},
   "source": [
    "# Hypothesis\n"
   ]
  },
  {
   "cell_type": "markdown",
   "metadata": {},
   "source": [
    "We predict that the more popular the performer is, the higher sales of products are going to be for companies that advertise during the Super Bowl. We believe this to be true because a more popular performer can encourage viewers to stay and watch the game, Halftime show, and the advertisements in between versus a less popular performer dissuades viewers to stay for the duration of the game."
   ]
  },
  {
   "cell_type": "markdown",
   "metadata": {},
   "source": [
    "# Data"
   ]
  },
  {
   "cell_type": "markdown",
   "metadata": {},
   "source": [
    "## Data overview\n",
    "\n",
    "For each dataset include the following information\n",
    "- Dataset #1\n",
    "  - Dataset Name:\n",
    "  - Link to the dataset:\n",
    "  - Number of observations:\n",
    "  - Number of variables:\n",
    "- Dataset #2 (if you have more than one!)\n",
    "  - Dataset Name:\n",
    "  - Link to the dataset:\n",
    "  - Number of observations:\n",
    "  - Number of variables:\n",
    "- etc\n",
    "\n",
    "Now write 2 - 5 sentences describing each dataset here. Include a short description of the important variables in the dataset; what the metrics and datatypes are, what concepts they may be proxies for. Include information about how you would need to wrangle/clean/preprocess the dataset\n",
    "\n",
    "If you plan to use multiple datasets, add a few sentences about how you plan to combine these datasets."
   ]
  },
  {
   "cell_type": "code",
   "execution_count": 1,
   "metadata": {},
   "outputs": [],
   "source": [
    "import pandas as pd\n",
    "df1 = pd.read_csv('charts.csv')\n",
    "df2 = pd.read_csv('pepsi.csv')"
   ]
  },
  {
   "cell_type": "markdown",
   "metadata": {},
   "source": [
    "## Dataset #1 Charts"
   ]
  },
  {
   "cell_type": "code",
   "execution_count": 2,
   "metadata": {},
   "outputs": [
    {
     "data": {
      "text/html": [
       "<div>\n",
       "<style scoped>\n",
       "    .dataframe tbody tr th:only-of-type {\n",
       "        vertical-align: middle;\n",
       "    }\n",
       "\n",
       "    .dataframe tbody tr th {\n",
       "        vertical-align: top;\n",
       "    }\n",
       "\n",
       "    .dataframe thead th {\n",
       "        text-align: right;\n",
       "    }\n",
       "</style>\n",
       "<table border=\"1\" class=\"dataframe\">\n",
       "  <thead>\n",
       "    <tr style=\"text-align: right;\">\n",
       "      <th></th>\n",
       "      <th>date</th>\n",
       "      <th>country</th>\n",
       "      <th>position</th>\n",
       "      <th>streams</th>\n",
       "      <th>track_id</th>\n",
       "      <th>artists</th>\n",
       "      <th>artist_genres</th>\n",
       "      <th>duration</th>\n",
       "      <th>explicit</th>\n",
       "      <th>name</th>\n",
       "    </tr>\n",
       "  </thead>\n",
       "  <tbody>\n",
       "    <tr>\n",
       "      <th>0</th>\n",
       "      <td>2021/04/15</td>\n",
       "      <td>de</td>\n",
       "      <td>82</td>\n",
       "      <td>625718</td>\n",
       "      <td>20IvMlpi4U5RuDnAlXSRiV</td>\n",
       "      <td>['Haftbefehl']</td>\n",
       "      <td>['german hip hop']</td>\n",
       "      <td>198746</td>\n",
       "      <td>False</td>\n",
       "      <td>Crackküche</td>\n",
       "    </tr>\n",
       "    <tr>\n",
       "      <th>1</th>\n",
       "      <td>2019/01/31</td>\n",
       "      <td>jp</td>\n",
       "      <td>171</td>\n",
       "      <td>50896</td>\n",
       "      <td>0V1K6MU0utODk4yNqZKsFv</td>\n",
       "      <td>['Suchmos']</td>\n",
       "      <td>['japanese r&amp;b', 'j-rock', 'japanese soul', 'j...</td>\n",
       "      <td>408320</td>\n",
       "      <td>False</td>\n",
       "      <td>WATER</td>\n",
       "    </tr>\n",
       "    <tr>\n",
       "      <th>2</th>\n",
       "      <td>2018/11/15</td>\n",
       "      <td>tr</td>\n",
       "      <td>59</td>\n",
       "      <td>185439</td>\n",
       "      <td>4qzZm5EIdFurBpDieEmVc9</td>\n",
       "      <td>['Nilipek.']</td>\n",
       "      <td>['turkish singer-songwriter', 'turkish rock']</td>\n",
       "      <td>257142</td>\n",
       "      <td>False</td>\n",
       "      <td>Gözleri Aşka Gülen</td>\n",
       "    </tr>\n",
       "    <tr>\n",
       "      <th>3</th>\n",
       "      <td>2018/11/22</td>\n",
       "      <td>tr</td>\n",
       "      <td>133</td>\n",
       "      <td>111159</td>\n",
       "      <td>4qzZm5EIdFurBpDieEmVc9</td>\n",
       "      <td>['Nilipek.']</td>\n",
       "      <td>['turkish singer-songwriter', 'turkish rock']</td>\n",
       "      <td>257142</td>\n",
       "      <td>False</td>\n",
       "      <td>Gözleri Aşka Gülen</td>\n",
       "    </tr>\n",
       "    <tr>\n",
       "      <th>4</th>\n",
       "      <td>2018/11/29</td>\n",
       "      <td>tr</td>\n",
       "      <td>166</td>\n",
       "      <td>96204</td>\n",
       "      <td>4qzZm5EIdFurBpDieEmVc9</td>\n",
       "      <td>['Nilipek.']</td>\n",
       "      <td>['turkish singer-songwriter', 'turkish rock']</td>\n",
       "      <td>257142</td>\n",
       "      <td>False</td>\n",
       "      <td>Gözleri Aşka Gülen</td>\n",
       "    </tr>\n",
       "  </tbody>\n",
       "</table>\n",
       "</div>"
      ],
      "text/plain": [
       "         date country  position  streams                track_id  \\\n",
       "0  2021/04/15      de        82   625718  20IvMlpi4U5RuDnAlXSRiV   \n",
       "1  2019/01/31      jp       171    50896  0V1K6MU0utODk4yNqZKsFv   \n",
       "2  2018/11/15      tr        59   185439  4qzZm5EIdFurBpDieEmVc9   \n",
       "3  2018/11/22      tr       133   111159  4qzZm5EIdFurBpDieEmVc9   \n",
       "4  2018/11/29      tr       166    96204  4qzZm5EIdFurBpDieEmVc9   \n",
       "\n",
       "          artists                                      artist_genres  \\\n",
       "0  ['Haftbefehl']                                 ['german hip hop']   \n",
       "1     ['Suchmos']  ['japanese r&b', 'j-rock', 'japanese soul', 'j...   \n",
       "2    ['Nilipek.']      ['turkish singer-songwriter', 'turkish rock']   \n",
       "3    ['Nilipek.']      ['turkish singer-songwriter', 'turkish rock']   \n",
       "4    ['Nilipek.']      ['turkish singer-songwriter', 'turkish rock']   \n",
       "\n",
       "   duration  explicit                name  \n",
       "0    198746     False          Crackküche  \n",
       "1    408320     False               WATER  \n",
       "2    257142     False  Gözleri Aşka Gülen  \n",
       "3    257142     False  Gözleri Aşka Gülen  \n",
       "4    257142     False  Gözleri Aşka Gülen  "
      ]
     },
     "execution_count": 2,
     "metadata": {},
     "output_type": "execute_result"
    }
   ],
   "source": [
    "df1.head()"
   ]
  },
  {
   "cell_type": "markdown",
   "metadata": {},
   "source": [
    "Our first dataset is a collection of artists and the streams they had for a certain track at a certain date. We will clean this by isolating the years for each track first. Then we will groupby the artists names and years so we can find out how many streams they had per year. There are about 100,000 rows in this dataset and 10 variables. The important variables in this dataset is the streams, date, and artist.\n",
    " https://www.kaggle.com/datasets/jfreyberg/spotify-chart-data?resource=download"
   ]
  },
  {
   "cell_type": "markdown",
   "metadata": {},
   "source": [
    "## Dataset #2 pepsi"
   ]
  },
  {
   "cell_type": "code",
   "execution_count": 3,
   "metadata": {},
   "outputs": [
    {
     "data": {
      "text/html": [
       "<div>\n",
       "<style scoped>\n",
       "    .dataframe tbody tr th:only-of-type {\n",
       "        vertical-align: middle;\n",
       "    }\n",
       "\n",
       "    .dataframe tbody tr th {\n",
       "        vertical-align: top;\n",
       "    }\n",
       "\n",
       "    .dataframe thead th {\n",
       "        text-align: right;\n",
       "    }\n",
       "</style>\n",
       "<table border=\"1\" class=\"dataframe\">\n",
       "  <thead>\n",
       "    <tr style=\"text-align: right;\">\n",
       "      <th></th>\n",
       "      <th>Date</th>\n",
       "      <th>Open</th>\n",
       "      <th>High</th>\n",
       "      <th>Low</th>\n",
       "      <th>Close</th>\n",
       "      <th>Adj Close</th>\n",
       "      <th>Volume</th>\n",
       "    </tr>\n",
       "  </thead>\n",
       "  <tbody>\n",
       "    <tr>\n",
       "      <th>0</th>\n",
       "      <td>2023-05-18</td>\n",
       "      <td>191.320007</td>\n",
       "      <td>191.710007</td>\n",
       "      <td>190.410004</td>\n",
       "      <td>191.559998</td>\n",
       "      <td>186.052841</td>\n",
       "      <td>3709400</td>\n",
       "    </tr>\n",
       "    <tr>\n",
       "      <th>1</th>\n",
       "      <td>2023-05-19</td>\n",
       "      <td>192.460007</td>\n",
       "      <td>192.860001</td>\n",
       "      <td>191.100006</td>\n",
       "      <td>191.839996</td>\n",
       "      <td>186.324768</td>\n",
       "      <td>3883000</td>\n",
       "    </tr>\n",
       "    <tr>\n",
       "      <th>2</th>\n",
       "      <td>2023-05-22</td>\n",
       "      <td>191.190002</td>\n",
       "      <td>191.389999</td>\n",
       "      <td>186.410004</td>\n",
       "      <td>186.639999</td>\n",
       "      <td>181.274277</td>\n",
       "      <td>5787000</td>\n",
       "    </tr>\n",
       "    <tr>\n",
       "      <th>3</th>\n",
       "      <td>2023-05-23</td>\n",
       "      <td>186.490005</td>\n",
       "      <td>186.630005</td>\n",
       "      <td>184.589996</td>\n",
       "      <td>186.070007</td>\n",
       "      <td>180.720673</td>\n",
       "      <td>6382300</td>\n",
       "    </tr>\n",
       "    <tr>\n",
       "      <th>4</th>\n",
       "      <td>2023-05-24</td>\n",
       "      <td>186.270004</td>\n",
       "      <td>186.740005</td>\n",
       "      <td>184.369995</td>\n",
       "      <td>184.889999</td>\n",
       "      <td>179.574585</td>\n",
       "      <td>3721000</td>\n",
       "    </tr>\n",
       "  </tbody>\n",
       "</table>\n",
       "</div>"
      ],
      "text/plain": [
       "         Date        Open        High         Low       Close   Adj Close  \\\n",
       "0  2023-05-18  191.320007  191.710007  190.410004  191.559998  186.052841   \n",
       "1  2023-05-19  192.460007  192.860001  191.100006  191.839996  186.324768   \n",
       "2  2023-05-22  191.190002  191.389999  186.410004  186.639999  181.274277   \n",
       "3  2023-05-23  186.490005  186.630005  184.589996  186.070007  180.720673   \n",
       "4  2023-05-24  186.270004  186.740005  184.369995  184.889999  179.574585   \n",
       "\n",
       "    Volume  \n",
       "0  3709400  \n",
       "1  3883000  \n",
       "2  5787000  \n",
       "3  6382300  \n",
       "4  3721000  "
      ]
     },
     "execution_count": 3,
     "metadata": {},
     "output_type": "execute_result"
    }
   ],
   "source": [
    "df2.head()"
   ]
  },
  {
   "cell_type": "markdown",
   "metadata": {},
   "source": [
    "Since we will be looking at stock prices of multiple companies we have only provided one company for brevity. We will find the difference between the open and the close price at a certain date where the super bowl is occuring. There are 252 rows and 7 variables. "
   ]
  },
  {
   "cell_type": "markdown",
   "metadata": {},
   "source": [
    "# Ethics & Privacy"
   ]
  },
  {
   "cell_type": "markdown",
   "metadata": {},
   "source": [
    "There are a few factors that we must consider with respect to dealing with ethics and privacy when trying to answer our proposed research question. For example, certain companies may release more data on their sales in comparison to other companies, leading to potential biases in the dataset. In addition to skewed data regarding sales data, we might also encounter challenges when analyzing an artists' popularity. There are many factors that can be taken into account for an artists' popularity including, but not limited to streaming numbers, Spotify charts, and various awards. Because we can only focus on a limited number of factors, it is possible that our results aren't fully representative of an artists' popularity. Additionally, we must ensure that we are abiding by the terms of the data we use in order to avoid privacy issues. \n",
    "Because missing information might cause our data to be skewed and is something we can’t necessarily fix, it is important to be aware of how these biases might affect our analysis and to ensure that we are being transparent throughout the entire analysis process. In our findings, we will make sure to acknowledge the effects that potential skewed data might have on our conclusion.\n"
   ]
  },
  {
   "cell_type": "markdown",
   "metadata": {},
   "source": [
    "# Team Expectations "
   ]
  },
  {
   "cell_type": "markdown",
   "metadata": {},
   "source": [
    "Read over the [COGS108 Team Policies](https://github.com/COGS108/Projects/blob/master/COGS108_TeamPolicies.md) individually. Then, include your group’s expectations of one another for successful completion of your COGS108 project below. Discuss and agree on what all of your expectations are. Discuss how your team will communicate throughout the quarter and consider how you will communicate respectfully should conflicts arise. By including each member’s name above and by adding their name to the submission, you are indicating that you have read the COGS108 Team Policies, accept your team’s expectations below, and have every intention to fulfill them. These expectations are for your team’s use and benefit — they won’t be graded for their details.\n",
    "\n",
    "* Timely Communication\n",
    "* Work together on issues that need to be resolved\n",
    "* Use group chats to get team meetings scheduled"
   ]
  },
  {
   "cell_type": "markdown",
   "metadata": {},
   "source": [
    "# Project Timeline Proposal"
   ]
  },
  {
   "cell_type": "markdown",
   "metadata": {},
   "source": [
    "Specify your team's specific project timeline. An example timeline has been provided. Changes the dates, times, names, and details to fit your group's plan.\n",
    "\n",
    "If you think you will need any special resources or training outside what we have covered in COGS 108 to solve your problem, then your proposal should state these clearly. For example, if you have selected a problem that involves implementing multiple neural networks, please state this so we can make sure you know what you’re doing and so we can point you to resources you will need to implement your project. Note that you are not required to use outside methods.\n",
    "\n",
    "\n",
    "\n",
    "| Meeting Date  | Meeting Time| Completed Before Meeting  | Discuss at Meeting |\n",
    "|---|---|---|---|\n",
    "| 5/17  |  1 PM | Review Project Proposal feedback + identify key parts we need to revise | Continue background research and search for datasets we might want to use; Revise proposal for Data Checkpoint | \n",
    "| 5/24  |  1 PM |  Think about what wrangling and analytic approaches we might want to take with the dataset we used | Discuss approaches we thought about and assign group member to import/wrangle the data or work on EDA | \n",
    "| 5/31  | 1 PM  | Import and wrangle the data (team member to be assigned) and the rest will work on exploratory data analysis  | Discuss Wrangling and possible analytical approaches; Submit EDA Checkpoint   |\n",
    "| 6/7  | 1 PM  | Review wrangling and EDA (identify aspects that we might want to change/expand on) | Discuss issues that members thought of and start working on analysis   |\n",
    "| 6/10  | 1 PM  | Finish up the analysis and conclusion | Revise and review entire project |\n",
    "| 6/12  | Before 11:59 PM | N/A | Turn in Final Project + Surveys |"
   ]
  },
  {
   "cell_type": "markdown",
   "metadata": {},
   "source": []
  },
  {
   "cell_type": "code",
   "execution_count": null,
   "metadata": {},
   "outputs": [],
   "source": []
  },
  {
   "cell_type": "code",
   "execution_count": null,
   "metadata": {},
   "outputs": [],
   "source": []
  }
 ],
 "metadata": {
  "kernelspec": {
   "display_name": "Python 3 (ipykernel)",
   "language": "python",
   "name": "python3"
  },
  "language_info": {
   "codemirror_mode": {
    "name": "ipython",
    "version": 3
   },
   "file_extension": ".py",
   "mimetype": "text/x-python",
   "name": "python",
   "nbconvert_exporter": "python",
   "pygments_lexer": "ipython3",
   "version": "3.9.14"
  }
 },
 "nbformat": 4,
 "nbformat_minor": 2
}
