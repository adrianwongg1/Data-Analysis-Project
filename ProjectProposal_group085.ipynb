{
 "cells": [
  {
   "cell_type": "markdown",
   "metadata": {},
   "source": [
    "# COGS 108 - Project Proposal"
   ]
  },
  {
   "cell_type": "markdown",
   "metadata": {},
   "source": [
    "# Names\n",
    "\n",
    "- Adrian Wong\n",
    "- Kevin Kuang\n",
    "- Valerie Nguyen\n",
    "- Peter Nguyen\n",
    "- Bryan Cho"
   ]
  },
  {
   "cell_type": "markdown",
   "metadata": {},
   "source": [
    "# Research Question"
   ]
  },
  {
   "cell_type": "markdown",
   "metadata": {},
   "source": [
    "\n",
    "Given that the Super Bowl is the most viewed television program every year, there is huge emphasis on the advertisements shown, as well as choosing the performer for the Halftime show. We wanted to explore the following question: What is the relationship of a Super Bowl Halftime show performer's popularity and sales of products featured in Super Bowl advertisements? \n"
   ]
  },
  {
   "cell_type": "markdown",
   "metadata": {},
   "source": [
    "## Background and Prior Work"
   ]
  },
  {
   "cell_type": "markdown",
   "metadata": {},
   "source": [
    "The Super Bowl, an annual championship game of the National Football League (NFL), is not only a significant sporting event but also a cultural phenomenon with a massive global audience. Alongside the game itself, the Super Bowl halftime show has emerged as a highly anticipated spectacle, featuring performances by some of the world's most renowned musical artists. With millions of viewers tuning in each year, the halftime show presents a unique opportunity for companies to showcase their brands through advertisements aired during the event.\n",
    "However, beyond the entertainment value and marketing, a question arises: what is the relationship between the popularity of halftime show performers and the sales impact on companies who advertise during the Super Bowl? \n",
    "\n",
    "Previous work has been doen on analyzing the influence of advertisements on sales without considering halftime show performer by highradius. They found that the effects of super bowl advertisements vary depending on the type of company and their relationship to others. An example of this is when two competing brands in the same industry air advertisements during the superbowl (Cola and Pepsi), they made no substantial gain on investments<a name=\"cite_ref-1\"></a>[<sup>1</sup>](#cite_note-1). In contrast media companies like Fox, saw a 10% increase on total revenue from the previous year <a name=\"cite_ref-1\"></a>[<sup>1</sup>](#cite_note-1). In addition, they found that companies have been hesitant to invest into a super bowl advertisement as the price tag is hefty. The variation in amount of revenue between the companies suggested that there is no clear answer to is the advertisement a worth investment for companies, but they can potentially generate lots of money. \n",
    "\n",
    "INFORMS' article expands on this potential to generate high volumes of money by pointing out that companies participating in Super Bowl adds not only see a sharp increase in revenue leading up to the event, but that these numbers tend persist into to the NCAA's \"March Madness,\" the NBA, and MLB games which all fall nicely into a timeline. This is particularly shown with Budweiser's ten-point increase in ratings around the Super Bowl, while a company like Coca-Cola whose ads are not associated with the event remain relatively stagnant <a name=\"cite_ref-2\"></a>[<sup>2</sup>](#cite_note-2). These findings reveal that it might also be important to anaylze data from the other fiscal quarters outside of the Super Bowl if we wish to find the a true relationship between Halftime Show popularity and said ads.\n",
    "\n",
    "\n",
    "1. <a name=\"cite_note-1\"></a> [^](#cite_ref-1) February, T. (2024, April 18). Finance Newsletter: Super Bowl ad impacts. HighRadiusTM | Integrated Receivables | a/R Management Software. https://www.highradius.com/finsider/super-bowl-advertising-financial-impact/\n",
    "2. <a name=\"cite_note-2\"></a> [^](#cite_ref-2) Informs. (n.d.). Are super bowl ads worth it? new research indicates sales benefits persist well into the year during “March madness,” MLB and NBA Games. INFORMS. https://www.informs.org/News-Room/INFORMS-Releases/News-Releases/Are-Super-Bowl-ads-worth-it-New-research-indicates-sales-benefits-persist-well-into-the-year-during-March-Madness-MLB-and-NBA-games \n"
   ]
  },
  {
   "cell_type": "markdown",
   "metadata": {},
   "source": [
    "# Hypothesis\n"
   ]
  },
  {
   "cell_type": "markdown",
   "metadata": {},
   "source": [
    "\n",
    "\n",
    "We predict that the more popular the performer is, the higher sales of products are going to be for companies that advertise during the Super Bowl. We believe this to be true because a more popular performer can encourage viewers to stay and watch the game, Halftime show, and the advertisements in between versus a less popular performer dissuades viewers to stay for the duration of the game."
   ]
  },
  {
   "cell_type": "markdown",
   "metadata": {},
   "source": [
    "# Data"
   ]
  },
  {
   "cell_type": "markdown",
   "metadata": {},
   "source": [
    "The ideal data set that we would want would be a list of companies who have been consistently been showing Super Bowl ads for the past few years along with their earnings for the quarter for that particular year. Ideally, we would want around 10-20 companies who had ads consistently and in the form of a csv file or xml. We would also need the performers every year with a way to determine popularity whether it’s the number of streams they’ve had in total or how many followers they have on a particular social media app. The data would be collected by online sources where popularity can be from Spotify streams or followers. Then for quarterly finance and the companies, we can Google or find datasets of companies with their quarterly finance. We would want rows of the listed companies and the columns to be the year, earnings for the quarter, performer, and popularity. \n",
    "\n",
    "For the Artist’s popularity, we can use this dataset where it provides their lead streams, feats, and tracks. What is different from our ideal data set is that it is 2 years old an newer artists may have made their debut or artists have climbed the ranking the past 2 years. https://www.kaggle.com/datasets/adnananam/spotify-artist-stats?resource=download\n",
    "\n",
    "Then for the earnings of companies we can use the Financial Statement Data Sets where each of them are separated by year and quarters. Compared to our ideal data set, we need to combine the same quarters from each year we are trying to analyze.\n",
    "\n",
    "https://www.sec.gov/dera/data/financial-statement-data-sets\n",
    "\n",
    "Finally, for the list of companies, we would need to scrape a Wikipedia page to find consistent advertisers. Unlike the other datasets, we will need to scrape for the names of the companies and the years they have shown and organize it into a dataset.\n",
    "\n",
    "https://en.wikipedia.org/wiki/List_of_Super_Bowl_commercials"
   ]
  },
  {
   "cell_type": "markdown",
   "metadata": {},
   "source": [
    "# Ethics & Privacy"
   ]
  },
  {
   "cell_type": "markdown",
   "metadata": {},
   "source": [
    "There are a few factors that we must consider with respect to dealing with ethics and privacy when trying to answer our proposed research question. For example, certain companies may release more data on their sales in comparison to other companies, leading to potential biases in the dataset. In addition to skewed data regarding sales data, we might also encounter challenges when analyzing an artists' popularity. There are many factors that can be taken into account for an artists' popularity including, but not limited to streaming numbers, Spotify charts, and various awards. Because we can only focus on a limited number of factors, it is possible that our results aren't fully representative of an artists' popularity. Additionally, we must ensure that we are abiding by the terms of the data we use in order to avoid privacy issues. \n",
    "Because missing information might cause our data to be skewed and is something we can’t necessarily fix, it is important to be aware of how these biases might affect our analysis and to ensure that we are being transparent throughout the entire analysis process. In our findings, we will make sure to acknowledge the effects that potential skewed data might have on our conclusion."
   ]
  },
  {
   "cell_type": "markdown",
   "metadata": {},
   "source": [
    "# Team Expectations "
   ]
  },
  {
   "cell_type": "markdown",
   "metadata": {},
   "source": [
    "\n",
    "Read over the [COGS108 Team Policies](https://github.com/COGS108/Projects/blob/master/COGS108_TeamPolicies.md) individually. Then, include your group’s expectations of one another for successful completion of your COGS108 project below. Discuss and agree on what all of your expectations are. Discuss how your team will communicate throughout the quarter and consider how you will communicate respectfully should conflicts arise. By including each member’s name above and by adding their name to the submission, you are indicating that you have read the COGS108 Team Policies, accept your team’s expectations below, and have every intention to fulfill them. These expectations are for your team’s use and benefit — they won’t be graded for their details.\n",
    "\n",
    "* Timely Communication\n",
    "* Work together on issues that need to be resolved\n",
    "* Use group chats to get team meetings scheduled"
   ]
  },
  {
   "cell_type": "markdown",
   "metadata": {},
   "source": [
    "# Project Timeline Proposal"
   ]
  },
  {
   "cell_type": "markdown",
   "metadata": {},
   "source": [
    "Specify your team's specific project timeline. An example timeline has been provided. Changes the dates, times, names, and details to fit your group's plan.\n",
    "\n",
    "If you think you will need any special resources or training outside what we have covered in COGS 108 to solve your problem, then your proposal should state these clearly. For example, if you have selected a problem that involves implementing multiple neural networks, please state this so we can make sure you know what you’re doing and so we can point you to resources you will need to implement your project. Note that you are not required to use outside methods.\n",
    "\n",
    "\n",
    "\n",
    "| Meeting Date  | Meeting Time| Completed Before Meeting  | Discuss at Meeting |\n",
    "|---|---|---|---|\n",
    "| 5/10  |  1 PM | Read & Think about COGS 108 expectations; brainstorm topics/questions  | Determine best form of communication; Discuss and decide on final project topic; discuss hypothesis; begin background research | \n",
    "| 5/17  |  1 PM |  Do background research on topic | Discuss ideal dataset(s) and ethics; draft project proposal | \n",
    "| 5/24 | 1 PM  | Edit, finalize, and submit proposal; Search for datasets  | Discuss Wrangling and possible analytical approaches; Assign group members to lead each specific part   |\n",
    "| 5/31  | 1 PM  | Import & Wrangle Data; EDA| Review/Edit wrangling/EDA; Discuss Analysis Plan   |\n",
    "| 6/7  | 1 PM  | Finalize wrangling/EDA; Begin Analysis | Discuss/edit Analysis; Complete project check-in |\n",
    "| 6/10 |  1PM      | Complete analysis; Draft results/conclusion/discussion| Discuss/edit full project |\n",
    "| 6/12  | 12 PM  | Turn in Final Project & Group Project Surveys |\n"
   ]
  },
  {
   "cell_type": "markdown",
   "metadata": {},
   "source": []
  }
 ],
 "metadata": {
  "kernelspec": {
   "display_name": "Python 3 (ipykernel)",
   "language": "python",
   "name": "python3"
  },
  "language_info": {
   "codemirror_mode": {
    "name": "ipython",
    "version": 3
   },
   "file_extension": ".py",
   "mimetype": "text/x-python",
   "name": "python",
   "nbconvert_exporter": "python",
   "pygments_lexer": "ipython3",
   "version": "3.9.5"
  }
 },
 "nbformat": 4,
 "nbformat_minor": 2
}
